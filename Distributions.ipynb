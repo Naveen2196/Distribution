{
 "cells": [
  {
   "cell_type": "code",
   "execution_count": 1,
   "id": "44ccd74e",
   "metadata": {},
   "outputs": [],
   "source": [
    "import matplotlib.pyplot as plt\n",
    "import numpy as np\n",
    "import scipy.stats as stats\n",
    "import math"
   ]
  },
  {
   "cell_type": "code",
   "execution_count": 2,
   "id": "a84b39c9",
   "metadata": {},
   "outputs": [],
   "source": [
    "x = np.random.randint(10,100,100)"
   ]
  },
  {
   "cell_type": "code",
   "execution_count": 3,
   "id": "82669bed",
   "metadata": {},
   "outputs": [],
   "source": [
    "x"
   ]
  },
  {
   "cell_type": "code",
   "execution_count": 4,
   "id": "150b74c5",
   "metadata": {},
   "outputs": [],
   "source": [
    "xm = np.mean(x)\n",
    "xstd = np.std(x)\n",
    "xm,xstd"
   ]
  },
  {
   "cell_type": "code",
   "execution_count": 5,
   "id": "ce9fe01f",
   "metadata": {},
   "outputs": [],
   "source": [
    "xz = []\n",
    "for i in range(len(x)):\n",
    "    xz.append((x[i]-xm)/xstd)"
   ]
  },
  {
   "cell_type": "code",
   "execution_count": 6,
   "id": "d834e8a0",
   "metadata": {},
   "outputs": [],
   "source": [
    "xz"
   ]
  },
  {
   "cell_type": "code",
   "execution_count": 7,
   "id": "33e3b7e5",
   "metadata": {
    "scrolled": true
   },
   "outputs": [],
   "source": [
    "import seaborn as sns\n",
    "x1 = np.linspace(-3, 3, 100)\n",
    "plt.plot(x1, stats.norm.pdf(x1, 0, 1))\n",
    "sns.distplot(xz, hist =False)\n",
    "plt.show()"
   ]
  },
  {
   "cell_type": "code",
   "execution_count": 8,
   "id": "1aa37aee",
   "metadata": {},
   "outputs": [],
   "source": [
    "x1"
   ]
  },
  {
   "cell_type": "code",
   "execution_count": 9,
   "id": "432ebfa8",
   "metadata": {},
   "outputs": [],
   "source": [
    "np.random.uniform(10.5,30.6,50)"
   ]
  },
  {
   "cell_type": "code",
   "execution_count": 10,
   "id": "53d4f64e",
   "metadata": {},
   "outputs": [],
   "source": [
    "stats.norm.cdf(((40-55.7)/23.6),0,1)"
   ]
  },
  {
   "cell_type": "code",
   "execution_count": 11,
   "id": "3477ec83",
   "metadata": {},
   "outputs": [],
   "source": [
    "stats.norm.cdf(((50-55.7)/25.6),1,6)"
   ]
  },
  {
   "cell_type": "code",
   "execution_count": 12,
   "id": "1a91d05e",
   "metadata": {},
   "outputs": [],
   "source": [
    "# estimation of confidence intervals for credit card problem\n",
    "# sigma known\n",
    "xbar = 1990\n",
    "sigma = 2500\n",
    "n = 139\n",
    "s = 2883\n"
   ]
  },
  {
   "cell_type": "code",
   "execution_count": 13,
   "id": "6d908c3a",
   "metadata": {},
   "outputs": [],
   "source": [
    "z = stats.norm.ppf(0.975)\n",
    "z"
   ]
  },
  {
   "cell_type": "code",
   "execution_count": 14,
   "id": "48a9dfcc",
   "metadata": {},
   "outputs": [],
   "source": [
    "mu = [xbar -(z*sigma/np.sqrt(n)),xbar + (z*sigma/np.sqrt(n))]"
   ]
  },
  {
   "cell_type": "code",
   "execution_count": 15,
   "id": "2b11b353",
   "metadata": {},
   "outputs": [],
   "source": [
    "mu"
   ]
  },
  {
   "cell_type": "code",
   "execution_count": 16,
   "id": "ed10329b",
   "metadata": {},
   "outputs": [],
   "source": [
    "# sigma unknown\n",
    "xbar = 1990\n",
    "n = 140\n",
    "s = 2833"
   ]
  },
  {
   "cell_type": "code",
   "execution_count": 17,
   "id": "22b3f66b",
   "metadata": {},
   "outputs": [],
   "source": [
    "# stats.t.ppf(0.975,df) where df is the degree of freedom = n-1\n",
    "t = stats.t.ppf(0.975,n-1)"
   ]
  },
  {
   "cell_type": "code",
   "execution_count": 18,
   "id": "c942aec1",
   "metadata": {},
   "outputs": [],
   "source": [
    "t"
   ]
  },
  {
   "cell_type": "code",
   "execution_count": 19,
   "id": "ba2797ec",
   "metadata": {},
   "outputs": [],
   "source": [
    "mu1 = [xbar - (t*s/np.sqrt(n)), xbar + (t*s/np.sqrt(n))]"
   ]
  },
  {
   "cell_type": "code",
   "execution_count": 20,
   "id": "42ec38c5",
   "metadata": {},
   "outputs": [],
   "source": [
    "mu1"
   ]
  },
  {
   "cell_type": "code",
   "execution_count": null,
   "id": "a9ddb20b",
   "metadata": {},
   "outputs": [],
   "source": [
    "import numpy as np\n",
    "import pandas as pd\n",
    "data.pd.Series([0.593,0.142,0.329,0.691,0.231,0.793,0.519,0.392,0.418])\n"
   ]
  }
 ],
 "metadata": {
  "kernelspec": {
   "display_name": "Python 3 (ipykernel)",
   "language": "python",
   "name": "python3"
  },
  "language_info": {
   "codemirror_mode": {
    "name": "ipython",
    "version": 3
   },
   "file_extension": ".py",
   "mimetype": "text/x-python",
   "name": "python",
   "nbconvert_exporter": "python",
   "pygments_lexer": "ipython3",
   "version": "3.11.3"
  }
 },
 "nbformat": 4,
 "nbformat_minor": 5
}
